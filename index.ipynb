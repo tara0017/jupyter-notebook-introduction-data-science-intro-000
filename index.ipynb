{
 "cells": [
  {
   "cell_type": "markdown",
   "metadata": {},
   "source": [
    "# Jupyter Notebook CodeAlong"
   ]
  },
  {
   "cell_type": "markdown",
   "metadata": {},
   "source": [
    "### Introduction"
   ]
  },
  {
   "cell_type": "markdown",
   "metadata": {},
   "source": [
    "So far, many of the readings and all of the labs you have been working with have been interactive.  You are working in an environment that allows us to both display text and run Python code.  In this lesson, we explore Jupyter, the software powering these interactive documents."
   ]
  },
  {
   "cell_type": "markdown",
   "metadata": {},
   "source": [
    "### Jupyter Background"
   ]
  },
  {
   "cell_type": "markdown",
   "metadata": {},
   "source": [
    "Jupyter is a web application that allows someone to create and work with documents that have live code.  It's a very popular tool among data scientists, as it allows for both explanation of thinking behind code as well as the code itself."
   ]
  },
  {
   "cell_type": "markdown",
   "metadata": {},
   "source": [
    "### Introduction to cells"
   ]
  },
  {
   "cell_type": "markdown",
   "metadata": {},
   "source": [
    "The notebook itself consists of cells. Double click on this content to see what I mean. Once we double click on a cell, we are in insert mode. This means that we are able to edit the cells, just as you would if this were a word document. We can tell that we are in insert mode because of the green border around the cell.  \n",
    "\n",
    "After entering insert mode for this cell, change some content. Don't worry about what you change as we can always undo it. We can revert our changes to a cell by making sure that we are still in insert mode and by pressing `command + z` on a mac or `control + z` on windows.\n",
    "\n",
    "To get out of insert mode and see the effect of our changes, press `shift + enter`."
   ]
  },
  {
   "cell_type": "markdown",
   "metadata": {},
   "source": [
    "### Adding and Deleting Cells"
   ]
  },
  {
   "cell_type": "markdown",
   "metadata": {},
   "source": [
    "We have already seen, to alter the contents of a cell we simply double click on that cell, bringing us into insert mode, and then change the contents.  Now let's see how to add, and delete cells from escape mode."
   ]
  },
  {
   "cell_type": "markdown",
   "metadata": {},
   "source": [
    "#### Adding cells"
   ]
  },
  {
   "cell_type": "markdown",
   "metadata": {},
   "source": [
    "If we wish to quickly add a new cell we can do so with the following steps: \n",
    "\n",
    "* Make sure we are not in insert mode, but in escape mode\n",
    "    * *Remember we can tell we are in insert mode when we have a green border around our cell.*\n",
    "    * To get out of insert mode and into escape mode, press shift + enter.  Another option is to press the escape key.\n",
    "    * You will no longer see a cell bordered in green.\n",
    "* Then press the letter `b` to create a new cell."
   ]
  },
  {
   "cell_type": "code",
   "execution_count": 3,
   "metadata": {
    "scrolled": true
   },
   "outputs": [
    {
     "data": {
      "text/html": [
       "<script>requirejs.config({paths: { 'plotly': ['https://cdn.plot.ly/plotly-latest.min']},});if(!window.Plotly) {{require(['plotly'],function(plotly) {window.Plotly=plotly;});}}</script>"
      ],
      "text/vnd.plotly.v1+html": [
       "<script>requirejs.config({paths: { 'plotly': ['https://cdn.plot.ly/plotly-latest.min']},});if(!window.Plotly) {{require(['plotly'],function(plotly) {window.Plotly=plotly;});}}</script>"
      ]
     },
     "metadata": {},
     "output_type": "display_data"
    },
    {
     "name": "stdout",
     "output_type": "stream",
     "text": [
      "['Ba', 'ba', 'ba', 'ba', 'Barbara', 'Ann', 'Ba', 'ba', 'ba', 'ba', 'Barbara', 'Ann', 'Ba', 'ba', 'ba', 'ba', 'Barbara', 'Ann', 'take', 'my', 'hand', 'Ba', 'ba', 'ba', 'ba', 'Barbara', 'Ann', 'Ba', 'ba', 'ba', 'ba', 'Barbara', 'Ann', \"You've\", 'got', 'me', \"rockin'\", 'and', \"a-rollin'\", \"Rockin'\", 'and', \"a-reelin'\", 'Barbara', 'Ann', 'Ba', 'ba', 'ba', 'ba', 'Barbara', 'Ann', 'Went', 'to', 'a', 'dance', 'Looking', 'for', 'romance', 'Saw', 'Barbara', 'Ann', 'So', 'I', 'thought', \"I'd\", 'take', 'a', 'chance', 'Barbara', 'Ann,', 'take', 'my', 'hand', \"You've\", 'got', 'me', \"rockin'\", 'and', \"a-rollin'\", \"Rockin'\", 'and', 'a', \"reelin'\", 'Barbara', 'Ann', 'Ba', 'ba', 'ba', 'ba', 'Barbara', 'Ann', 'Ba', 'ba', 'ba', 'ba', 'Barbara', 'Ann', 'Ba', 'ba', 'ba', 'ba', 'Barbara', 'Ann', 'Ba', 'ba', 'ba', 'ba', 'Barbara', 'Ann', 'take', 'my', 'hand', 'Ba', 'ba', 'ba', 'ba', 'Barbara', 'Ann', 'Ba', 'ba', 'ba', 'ba', 'Barbara', 'Ann', \"You've\", 'got', 'me', \"rockin'\", 'and', \"a-rollin'\", \"Rockin'\", 'and', 'a', \"reelin'\", 'Barbara', 'Ann', 'Ba', 'ba', 'ba', 'ba', 'Barbara', 'Ann', 'Tried', 'Betty', 'Sue', 'Tried', 'Betty', 'Lou', 'Tried', 'Mary', 'Sue', 'But', 'I', 'knew', 'it', \"wouldn't\", 'do', 'Ba', 'ba', 'ba', 'ba', 'Barbara', 'Ann', 'Ba', 'ba', 'ba', 'ba', 'Barbara', 'Ann', \"You've\", 'got', 'me', \"rockin'\", 'and', \"a-rollin'\", \"Rockin'\", 'and', 'a', \"reelin'\", 'Barbara', 'Ann', 'Ba', 'ba', 'ba', 'ba', 'Barbara', 'Ann', 'Ba', 'ba', 'ba', 'ba', 'Barbara', 'Ann', 'Ba', 'ba', 'ba', 'ba', 'Barbara', 'Ann', 'Ba', 'ba', 'ba', 'ba', 'Barbara', 'Ann', 'take', 'my', 'hand', 'Ba', 'ba', 'ba', 'ba', 'Barbara', 'Ann', 'Ba', 'ba', 'ba', 'ba', 'Barbara', 'Ann', \"You've\", 'got', 'me', \"rockin'\", 'and', \"a-rollin'\", \"Rockin'\", 'and', 'a', \"reelin'\", 'Barbara', 'Ann', 'Ba', 'ba', 'ba', 'ba', 'Barbara', 'Ann', 'Barbara', 'Ann,', 'Barbara', 'Ann', 'Barbara', 'Ann,', 'Barbara', 'Ann', 'Barbara', 'Ann,', 'Barbara', 'Ann']\n",
      "['ba', 'ba', 'ba', 'ba', 'barbara', 'ann', 'ba', 'ba', 'ba', 'ba', 'barbara', 'ann', 'ba', 'ba', 'ba', 'ba', 'barbara', 'ann', 'take', 'my', 'hand', 'ba', 'ba', 'ba', 'ba', 'barbara', 'ann', 'ba', 'ba', 'ba', 'ba', 'barbara', 'ann', \"you've\", 'got', 'me', \"rockin'\", 'and', \"a-rollin'\", \"rockin'\", 'and', \"a-reelin'\", 'barbara', 'ann', 'ba', 'ba', 'ba', 'ba', 'barbara', 'ann', 'went', 'to', 'a', 'dance', 'looking', 'for', 'romance', 'saw', 'barbara', 'ann', 'so', 'i', 'thought', \"i'd\", 'take', 'a', 'chance', 'barbara', 'ann,', 'take', 'my', 'hand', \"you've\", 'got', 'me', \"rockin'\", 'and', \"a-rollin'\", \"rockin'\", 'and', 'a', \"reelin'\", 'barbara', 'ann', 'ba', 'ba', 'ba', 'ba', 'barbara', 'ann', 'ba', 'ba', 'ba', 'ba', 'barbara', 'ann', 'ba', 'ba', 'ba', 'ba', 'barbara', 'ann', 'ba', 'ba', 'ba', 'ba', 'barbara', 'ann', 'take', 'my', 'hand', 'ba', 'ba', 'ba', 'ba', 'barbara', 'ann', 'ba', 'ba', 'ba', 'ba', 'barbara', 'ann', \"you've\", 'got', 'me', \"rockin'\", 'and', \"a-rollin'\", \"rockin'\", 'and', 'a', \"reelin'\", 'barbara', 'ann', 'ba', 'ba', 'ba', 'ba', 'barbara', 'ann', 'tried', 'betty', 'sue', 'tried', 'betty', 'lou', 'tried', 'mary', 'sue', 'but', 'i', 'knew', 'it', \"wouldn't\", 'do', 'ba', 'ba', 'ba', 'ba', 'barbara', 'ann', 'ba', 'ba', 'ba', 'ba', 'barbara', 'ann', \"you've\", 'got', 'me', \"rockin'\", 'and', \"a-rollin'\", \"rockin'\", 'and', 'a', \"reelin'\", 'barbara', 'ann', 'ba', 'ba', 'ba', 'ba', 'barbara', 'ann', 'ba', 'ba', 'ba', 'ba', 'barbara', 'ann', 'ba', 'ba', 'ba', 'ba', 'barbara', 'ann', 'ba', 'ba', 'ba', 'ba', 'barbara', 'ann', 'take', 'my', 'hand', 'ba', 'ba', 'ba', 'ba', 'barbara', 'ann', 'ba', 'ba', 'ba', 'ba', 'barbara', 'ann', \"you've\", 'got', 'me', \"rockin'\", 'and', \"a-rollin'\", \"rockin'\", 'and', 'a', \"reelin'\", 'barbara', 'ann', 'ba', 'ba', 'ba', 'ba', 'barbara', 'ann', 'barbara', 'ann,', 'barbara', 'ann', 'barbara', 'ann,', 'barbara', 'ann', 'barbara', 'ann,', 'barbara', 'ann']\n",
      "{'ba': 88, 'barbara': 35, 'ann': 31, 'take': 5, 'my': 4, 'hand': 4, \"you've\": 5, 'got': 5, 'me': 5, \"rockin'\": 10, 'and': 10, \"a-rollin'\": 5, \"a-reelin'\": 1, 'went': 1, 'to': 1, 'a': 6, 'dance': 1, 'looking': 1, 'for': 1, 'romance': 1, 'saw': 1, 'so': 1, 'i': 2, 'thought': 1, \"i'd\": 1, 'chance': 1, 'ann,': 4, \"reelin'\": 4, 'tried': 3, 'betty': 2, 'sue': 2, 'lou': 1, 'mary': 1, 'but': 1, 'knew': 1, 'it': 1, \"wouldn't\": 1, 'do': 1}\n"
     ]
    },
    {
     "data": {
      "application/vnd.plotly.v1+json": {
       "data": [
        {
         "type": "bar",
         "uid": "cd4d27c6-8bf8-11e9-aa0b-a99cb247b7b6",
         "x": [
          "ba",
          "barbara",
          "ann",
          "take",
          "my",
          "hand",
          "you've",
          "got",
          "me",
          "rockin'",
          "and",
          "a-rollin'",
          "a-reelin'",
          "went",
          "to",
          "a",
          "dance",
          "looking",
          "for",
          "romance",
          "saw",
          "so",
          "i",
          "thought",
          "i'd",
          "chance",
          "ann,",
          "reelin'",
          "tried",
          "betty",
          "sue",
          "lou",
          "mary",
          "but",
          "knew",
          "it",
          "wouldn't",
          "do"
         ],
         "y": [
          88,
          35,
          31,
          5,
          4,
          4,
          5,
          5,
          5,
          10,
          10,
          5,
          1,
          1,
          1,
          6,
          1,
          1,
          1,
          1,
          1,
          1,
          2,
          1,
          1,
          1,
          4,
          4,
          3,
          2,
          2,
          1,
          1,
          1,
          1,
          1,
          1,
          1
         ]
        }
       ],
       "layout": {}
      },
      "text/html": [
       "<div id=\"179fcca1-7669-468e-a793-d2ebb1aac1ba\" style=\"height: 525px; width: 100%;\" class=\"plotly-graph-div\"></div><script type=\"text/javascript\">require([\"plotly\"], function(Plotly) { window.PLOTLYENV=window.PLOTLYENV || {};window.PLOTLYENV.BASE_URL=\"https://plot.ly\";Plotly.newPlot(\"179fcca1-7669-468e-a793-d2ebb1aac1ba\", [{\"x\": [\"ba\", \"barbara\", \"ann\", \"take\", \"my\", \"hand\", \"you've\", \"got\", \"me\", \"rockin'\", \"and\", \"a-rollin'\", \"a-reelin'\", \"went\", \"to\", \"a\", \"dance\", \"looking\", \"for\", \"romance\", \"saw\", \"so\", \"i\", \"thought\", \"i'd\", \"chance\", \"ann,\", \"reelin'\", \"tried\", \"betty\", \"sue\", \"lou\", \"mary\", \"but\", \"knew\", \"it\", \"wouldn't\", \"do\"], \"y\": [88, 35, 31, 5, 4, 4, 5, 5, 5, 10, 10, 5, 1, 1, 1, 6, 1, 1, 1, 1, 1, 1, 2, 1, 1, 1, 4, 4, 3, 2, 2, 1, 1, 1, 1, 1, 1, 1], \"type\": \"bar\", \"uid\": \"cd54657c-8bf8-11e9-aa0b-a99cb247b7b6\"}], {}, {\"showLink\": true, \"linkText\": \"Export to plot.ly\"})});</script>"
      ],
      "text/vnd.plotly.v1+html": [
       "<div id=\"179fcca1-7669-468e-a793-d2ebb1aac1ba\" style=\"height: 525px; width: 100%;\" class=\"plotly-graph-div\"></div><script type=\"text/javascript\">require([\"plotly\"], function(Plotly) { window.PLOTLYENV=window.PLOTLYENV || {};window.PLOTLYENV.BASE_URL=\"https://plot.ly\";Plotly.newPlot(\"179fcca1-7669-468e-a793-d2ebb1aac1ba\", [{\"x\": [\"ba\", \"barbara\", \"ann\", \"take\", \"my\", \"hand\", \"you've\", \"got\", \"me\", \"rockin'\", \"and\", \"a-rollin'\", \"a-reelin'\", \"went\", \"to\", \"a\", \"dance\", \"looking\", \"for\", \"romance\", \"saw\", \"so\", \"i\", \"thought\", \"i'd\", \"chance\", \"ann,\", \"reelin'\", \"tried\", \"betty\", \"sue\", \"lou\", \"mary\", \"but\", \"knew\", \"it\", \"wouldn't\", \"do\"], \"y\": [88, 35, 31, 5, 4, 4, 5, 5, 5, 10, 10, 5, 1, 1, 1, 6, 1, 1, 1, 1, 1, 1, 2, 1, 1, 1, 4, 4, 3, 2, 2, 1, 1, 1, 1, 1, 1, 1], \"type\": \"bar\", \"uid\": \"cd54657c-8bf8-11e9-aa0b-a99cb247b7b6\"}], {}, {\"showLink\": true, \"linkText\": \"Export to plot.ly\"})});</script>"
      ]
     },
     "metadata": {},
     "output_type": "display_data"
    }
   ],
   "source": [
    "import plotly\n",
    "from plotly.offline import iplot, init_notebook_mode\n",
    "from plotly import tools\n",
    "import plotly.graph_objs as go\n",
    "init_notebook_mode(connected=True)\n",
    "\n",
    "\n",
    "\n",
    "lyrics = \"Ba ba ba ba Barbara Ann Ba ba ba ba Barbara Ann Ba ba ba ba Barbara Ann take my hand Ba ba ba ba Barbara Ann Ba ba ba ba Barbara Ann You've got me rockin' and a-rollin' Rockin' and a-reelin' Barbara Ann Ba ba ba ba Barbara Ann Went to a dance Looking for romance Saw Barbara Ann So I thought I'd take a chance Barbara Ann, take my hand You've got me rockin' and a-rollin' Rockin' and a reelin' Barbara Ann Ba ba ba ba Barbara Ann Ba ba ba ba Barbara Ann Ba ba ba ba Barbara Ann Ba ba ba ba Barbara Ann take my hand Ba ba ba ba Barbara Ann Ba ba ba ba Barbara Ann You've got me rockin' and a-rollin' Rockin' and a reelin' Barbara Ann Ba ba ba ba Barbara Ann Tried Betty Sue Tried Betty Lou Tried Mary Sue But I knew it wouldn't do Ba ba ba ba Barbara Ann Ba ba ba ba Barbara Ann You've got me rockin' and a-rollin' Rockin' and a reelin' Barbara Ann Ba ba ba ba Barbara Ann Ba ba ba ba Barbara Ann Ba ba ba ba Barbara Ann Ba ba ba ba Barbara Ann take my hand Ba ba ba ba Barbara Ann Ba ba ba ba Barbara Ann You've got me rockin' and a-rollin' Rockin' and a reelin' Barbara Ann Ba ba ba ba Barbara Ann Barbara Ann, Barbara Ann Barbara Ann, Barbara Ann Barbara Ann, Barbara Ann\"\n",
    "\n",
    "list_of_lyrics = lyrics.split(' ')\n",
    "\n",
    "print(list_of_lyrics)\n",
    "new_list = []\n",
    "\n",
    "for word in list_of_lyrics:\n",
    "    new_list.append(word.lower())\n",
    "    \n",
    "\n",
    "print(new_list)\n",
    "d = {}\n",
    "\n",
    "for word in new_list:\n",
    "    #word already in dictionary\n",
    "    if word in d:\n",
    "        #increment count for this word\n",
    "        d[word] += 1\n",
    "    else:\n",
    "        d[word] = 1\n",
    "\n",
    "print(d)\n",
    "words = []\n",
    "frequency = []\n",
    "\n",
    "for word in d:\n",
    "    words.append(word)\n",
    "    frequency.append(d[word])\n",
    "    \n",
    "\n",
    "\n",
    " \n",
    "trace = {'type': 'bar', 'x': list(words), 'y': list(frequency)}\n",
    " \n",
    "plotly.offline.iplot({'data': [trace]})\n",
    "    \n"
   ]
  },
  {
   "cell_type": "markdown",
   "metadata": {},
   "source": [
    "#### Deleting cells"
   ]
  },
  {
   "cell_type": "markdown",
   "metadata": {},
   "source": [
    "To delete a cell we once again should be in escape mode, and then press the `x` key.\n",
    "\n",
    "Of course, we'll want a way to undo our deletion.  From escape mode, you can press `z` to undo deletion of a cell.  Note that this is different from `cmd + z`.  Pressing `cmd + z` while in insert mode undoes any changes inside of a cell while, whether these changes be deletions or text insertions.  Pressing `z` from escape mode undoes the deletion of a cell.\n",
    "\n",
    "Go to escape mode and press `x`.  This cell disappears!\n",
    "\n",
    "Then bring it back with `z`."
   ]
  },
  {
   "cell_type": "markdown",
   "metadata": {},
   "source": [
    "### Types of Cells\n",
    "\n",
    "The current cell and every other cell in this lesson has been a markdown cell, meaning that it allows us to write text and stylize that text.  For example, if you surround some text with stars on either side the text **becomes bold**.  That's markdown.\n",
    "\n",
    "Cells can also have a type of code.  If **we** are writing in a cell that is for Python code, everything in that cell must be valid Python or we will see an error."
   ]
  },
  {
   "cell_type": "code",
   "execution_count": 2,
   "metadata": {},
   "outputs": [
    {
     "ename": "SyntaxError",
     "evalue": "invalid syntax (<ipython-input-2-4e0ec4477064>, line 1)",
     "output_type": "error",
     "traceback": [
      "\u001b[0;36m  File \u001b[0;32m\"<ipython-input-2-4e0ec4477064>\"\u001b[0;36m, line \u001b[0;32m1\u001b[0m\n\u001b[0;31m    This is a python cell without valid Python so we will see an error\u001b[0m\n\u001b[0m                   ^\u001b[0m\n\u001b[0;31mSyntaxError\u001b[0m\u001b[0;31m:\u001b[0m invalid syntax\n"
     ]
    }
   ],
   "source": [
    "This is a python cell without valid Python so we will see an error"
   ]
  },
  {
   "cell_type": "code",
   "execution_count": null,
   "metadata": {},
   "outputs": [],
   "source": [
    "So, a cell must either be of type markdown or of type code, in which case all of the contents must be valid Python.  It cannot be both. We can quickly change a cell from markdown to code with some keyboard shortcuts.\n",
    "\n",
    "From escape mode, we change a cell to type code by pressing the letter `y`.\n",
    "\n",
    "Anytime we create a new cell, say with the shortcut key `b`, the new cell will default to code mode.  We can switch to escape mode and press the letter `m` to change the cell from code to markdown."
   ]
  },
  {
   "cell_type": "markdown",
   "metadata": {},
   "source": [
    "#### View All Shortcuts\n",
    "\n",
    "Press the key `h` while in escape mode to view the menu for all of Jupyter's shortcuts."
   ]
  },
  {
   "cell_type": "markdown",
   "metadata": {},
   "source": [
    "### Working with Python in Jupyter"
   ]
  },
  {
   "cell_type": "markdown",
   "metadata": {},
   "source": [
    "Ok, now that we know a little bit about adding and deleting cells, as well as changing cell types from markdown to code, let's focus on working with Python in Jupyter.  We'll go into a large amount of detail about working with a Jupyter notebook in Python, but the main takeaway is this: if we see a Python cell, we should press `shift + enter` on that cell. "
   ]
  },
  {
   "cell_type": "markdown",
   "metadata": {},
   "source": [
    "The major gotcha in working with Python code is that we must execute the cells in order for Python to register the code in them. So for example, just seeing the cell where we define `name` to `'bob'` below does not write that cell to memory."
   ]
  },
  {
   "cell_type": "code",
   "execution_count": null,
   "metadata": {
    "collapsed": true
   },
   "outputs": [],
   "source": [
    "name = 'bob'"
   ]
  },
  {
   "cell_type": "markdown",
   "metadata": {},
   "source": [
    "If we try to reference that variable later on without having executed the cell, Python will tell us that it is not defined.  "
   ]
  },
  {
   "cell_type": "code",
   "execution_count": 4,
   "metadata": {},
   "outputs": [
    {
     "ename": "NameError",
     "evalue": "name 'name' is not defined",
     "output_type": "error",
     "traceback": [
      "\u001b[0;31m---------------------------------------------------------------------------\u001b[0m",
      "\u001b[0;31mNameError\u001b[0m                                 Traceback (most recent call last)",
      "\u001b[0;32m<ipython-input-4-9bc0cb2ed6de>\u001b[0m in \u001b[0;36m<module>\u001b[0;34m()\u001b[0m\n\u001b[0;32m----> 1\u001b[0;31m \u001b[0mname\u001b[0m\u001b[0;34m\u001b[0m\u001b[0m\n\u001b[0m",
      "\u001b[0;31mNameError\u001b[0m: name 'name' is not defined"
     ]
    }
   ],
   "source": [
    "name"
   ]
  },
  {
   "cell_type": "markdown",
   "metadata": {},
   "source": [
    "To execute or run a cell, we must press `shift + enter` from escape mode on that cell.  Upon running a cell, Python will show the the last line of the cell's return value underneath.  Let's run the cell below to see this:"
   ]
  },
  {
   "cell_type": "code",
   "execution_count": 2,
   "metadata": {},
   "outputs": [
    {
     "data": {
      "text/plain": [
       "14"
      ]
     },
     "execution_count": 2,
     "metadata": {},
     "output_type": "execute_result"
    }
   ],
   "source": [
    "age = 14\n",
    "age"
   ]
  },
  {
   "cell_type": "markdown",
   "metadata": {},
   "source": [
    "As you can see the variable `age` is set to 14, so when the cell is run `14` is displayed underneath.\n",
    "\n",
    "One tricky thing to note is that assignment, the action of assigning a variable, **does not** have a return a value.  So, even though the cell is run, if the last line of cell is the assigning of a variable, nothing is displayed underneath. "
   ]
  },
  {
   "cell_type": "code",
   "execution_count": 3,
   "metadata": {
    "collapsed": true
   },
   "outputs": [],
   "source": [
    "hometown = 'NYC'"
   ]
  },
  {
   "cell_type": "markdown",
   "metadata": {},
   "source": [
    "Notice, even after pressing shift + enter on the code above, nothing is displayed below.  But if we reference the variable `hometown`, we see that the cell was run as the variable was defined."
   ]
  },
  {
   "cell_type": "code",
   "execution_count": 4,
   "metadata": {},
   "outputs": [
    {
     "data": {
      "text/plain": [
       "'NYC'"
      ]
     },
     "execution_count": 4,
     "metadata": {},
     "output_type": "execute_result"
    }
   ],
   "source": [
    "hometown"
   ]
  },
  {
   "cell_type": "markdown",
   "metadata": {},
   "source": [
    "> Yes, it's pretty confusing, but the important thing to take away is that we need to run our cells with Python code by pressing `shift + enter` if we want Python to read our variables and functions and remember them later on. Remember, in the case of assignment, the return value is `None`, which does not show an output. We can see this more concretely below by running the cell below:"
   ]
  },
  {
   "cell_type": "code",
   "execution_count": 6,
   "metadata": {
    "collapsed": true
   },
   "outputs": [],
   "source": [
    "None"
   ]
  },
  {
   "cell_type": "markdown",
   "metadata": {},
   "source": [
    "### Working through labs and readmes "
   ]
  },
  {
   "cell_type": "markdown",
   "metadata": {},
   "source": [
    "As you read through labs we encourage you to press shift + enter on each of the Python cells.  Often in labs, we will assign variables to data early on.  Then we will ask you to work with data stored in those variables.  To avoid going to the top of the lab to press `shift + enter`, it's best just to press that while reading along. \n",
    "\n",
    "The same thing goes for working through a Readme.  The Readmes will often assign data to variables, and it may be nice to work with data stored in those variables later on.  So it's a good idea to press `shift + enter`, and now that you know how to work with Jupyter notebooks, you can always modify the notebooks with new code to test your understanding."
   ]
  },
  {
   "cell_type": "markdown",
   "metadata": {},
   "source": [
    "### Summary"
   ]
  },
  {
   "cell_type": "markdown",
   "metadata": {},
   "source": [
    "In this lesson, we learned about Jupyter notebooks.  We saw that in Jupyter notebooks, we can either be in insert mode or escape mode.  While in insert mode, we can edit the cells and undo changes within that cell with `cmd + z` on a mac or `ctl + z` on windows.  In escape mode, we can add cells with `b`, delete a cell with `x`, and undo deletion of a cell with `z`.  We can also change the type of a cell to markdown with `m` and to Python code with `y`.  \n",
    "\n",
    "Then we saw how to work with Python code in Jupyter notebooks.  We saw that to have our code in a cell executed, we need to press `shift + enter`. If we do not do this, then our variables that we assigned in Python are not going to be recognized by Python later on in our Jupyter notebook."
   ]
  }
 ],
 "metadata": {
  "kernelspec": {
   "display_name": "Python 3",
   "language": "python",
   "name": "python3"
  },
  "language_info": {
   "codemirror_mode": {
    "name": "ipython",
    "version": 3
   },
   "file_extension": ".py",
   "mimetype": "text/x-python",
   "name": "python",
   "nbconvert_exporter": "python",
   "pygments_lexer": "ipython3",
   "version": "3.6.6"
  }
 },
 "nbformat": 4,
 "nbformat_minor": 2
}
